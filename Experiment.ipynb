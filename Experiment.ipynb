{
 "cells": [
  {
   "cell_type": "code",
   "execution_count": 3,
   "id": "ae7a7713-cd48-4e97-8242-481ef097fa53",
   "metadata": {},
   "outputs": [],
   "source": [
    "import pandas as pd\n",
    "\n",
    "# Read data from CSV files\n",
    "df_MARC = pd.read_csv(\"C:/Users/Hj/Downloads/Compressed/drive-download-20240227T203400Z-001/MARC.csv\")\n",
    "df_WERKS = pd.read_csv(\"C:/Users/Hj/Downloads/Compressed/drive-download-20240227T203400Z-001/WERKS.csv\")\n",
    "df_EKGRP = pd.read_csv(\"C:/Users/Hj/Downloads/Compressed/drive-download-20240227T203400Z-001/EKGRP.csv\")\n",
    "df_AUSME = pd.read_csv(\"C:/Users/Hj/Downloads/Compressed/drive-download-20240227T203400Z-001/AUSME.csv\")\n",
    "df_LGPRO = pd.read_csv(\"C:/Users/Hj/Downloads/Compressed/drive-download-20240227T203400Z-001/LGPRO.csv\")\n",
    "df_LGFSB = pd.read_csv(\"C:/Users/Hj/Downloads/Compressed/drive-download-20240227T203400Z-001/LGFSB.csv\")\n",
    "df_KOKRS = pd.read_csv(\"C:/Users/Hj/Downloads/Compressed/drive-download-20240227T203400Z-001/KOKRS.csv\")\n",
    "df_WAERS = pd.read_csv(\"C:/Users/Hj/Downloads/Compressed/drive-download-20240227T203400Z-001/WAERS.csv\")\n",
    "\n",
    "\n",
    "\n",
    "# Perform the join\n",
    "# merged_df = pd.merge(df_MARC, df_WERKS, left_on='WERKS', right_on='ECC', how='left')\n",
    "\n",
    "# Select only the necessary column and rename it\n",
    "# merged_df = merged_df[['E4_WERKS']].rename(columns={'E4_WERKS': 'WERKS'})\n",
    "\n",
    "# print(merged_df)\n"
   ]
  },
  {
   "cell_type": "code",
   "execution_count": 2,
   "id": "71c3fca4-e610-4640-a7d0-f8a550291fad",
   "metadata": {},
   "outputs": [
    {
     "name": "stdout",
     "output_type": "stream",
     "text": [
      "df_MARC   WERKS  AUSME  DISPO  LGPRO  DISGR  LGFSB  KOKRS  WAERS Unnamed: 8\n",
      "0  S010   S010   S010   S010   S010   S010   S010   S010        NaN\n",
      "1  S014   S014   S014   S014   S014   S014   S014   S014        NaN\n",
      "2  S014   S014   S014   S014   S014   S014   S014   S014        NaN\n",
      "3  S014   S014   S014   S014   S014   S014   S014   S014        NaN\n",
      "4  S014   S014   S014   S014   S014   S014   S014   S014        NaN\n",
      "5  S014   S014   S014   S014   S014   S014   S014   S014           \n"
     ]
    }
   ],
   "source": [
    "import pandas as pd\n",
    "\n",
    "# Read data from CSV files\n",
    "df_MARC = pd.read_csv(\"C:/Users/Hj/Downloads/Compressed/drive-download-20240227T203400Z-001/MARC.csv\")\n",
    "df_WERKS = pd.read_csv(\"C:/Users/Hj/Downloads/Compressed/drive-download-20240227T203400Z-001/WERKS.csv\")\n",
    "df_EKGRP = pd.read_csv(\"C:/Users/Hj/Downloads/Compressed/drive-download-20240227T203400Z-001/EKGRP.csv\")\n",
    "df_AUSME = pd.read_csv(\"C:/Users/Hj/Downloads/Compressed/drive-download-20240227T203400Z-001/AUSME.csv\")\n",
    "df_LGPRO = pd.read_csv(\"C:/Users/Hj/Downloads/Compressed/drive-download-20240227T203400Z-001/LGPRO.csv\")\n",
    "df_LGFSB = pd.read_csv(\"C:/Users/Hj/Downloads/Compressed/drive-download-20240227T203400Z-001/LGFSB.csv\")\n",
    "df_KOKRS = pd.read_csv(\"C:/Users/Hj/Downloads/Compressed/drive-download-20240227T203400Z-001/KOKRS.csv\")\n",
    "df_WAERS = pd.read_csv(\"C:/Users/Hj/Downloads/Compressed/drive-download-20240227T203400Z-001/WAERS.csv\")\n",
    "\n",
    "\n",
    "print(\"df_MARC\",df_MARC)\n"
   ]
  },
  {
   "cell_type": "code",
   "execution_count": 3,
   "id": "00837442-4c98-482c-aee0-1d0b85dc0e29",
   "metadata": {},
   "outputs": [
    {
     "name": "stdout",
     "output_type": "stream",
     "text": [
      "merge1\n",
      "    WERKS  AUSME  DISPO  LGPRO  DISGR  LGFSB  KOKRS  WAERS Unnamed: 8   ECC  \\\n",
      "0   S010   S010   S010   S010   S010   S010   S010   S010        NaN  S010   \n",
      "1   S014   S014   S014   S014   S014   S014   S014   S014        NaN  S014   \n",
      "2   S014   S014   S014   S014   S014   S014   S014   S014        NaN  S014   \n",
      "3   S014   S014   S014   S014   S014   S014   S014   S014        NaN  S014   \n",
      "4   S014   S014   S014   S014   S014   S014   S014   S014        NaN  S014   \n",
      "5   S014   S014   S014   S014   S014   S014   S014   S014        NaN  S014   \n",
      "6   S014   S014   S014   S014   S014   S014   S014   S014        NaN  S014   \n",
      "7   S014   S014   S014   S014   S014   S014   S014   S014        NaN  S014   \n",
      "8   S014   S014   S014   S014   S014   S014   S014   S014        NaN  S014   \n",
      "9   S014   S014   S014   S014   S014   S014   S014   S014        NaN  S014   \n",
      "10  S014   S014   S014   S014   S014   S014   S014   S014        NaN  S014   \n",
      "11  S014   S014   S014   S014   S014   S014   S014   S014        NaN  S014   \n",
      "12  S014   S014   S014   S014   S014   S014   S014   S014        NaN  S014   \n",
      "13  S014   S014   S014   S014   S014   S014   S014   S014        NaN  S014   \n",
      "14  S014   S014   S014   S014   S014   S014   S014   S014        NaN  S014   \n",
      "15  S014   S014   S014   S014   S014   S014   S014   S014        NaN  S014   \n",
      "16  S014   S014   S014   S014   S014   S014   S014   S014        NaN  S014   \n",
      "17  S014   S014   S014   S014   S014   S014   S014   S014        NaN  S014   \n",
      "18  S014   S014   S014   S014   S014   S014   S014   S014        NaN  S014   \n",
      "19  S014   S014   S014   S014   S014   S014   S014   S014        NaN  S014   \n",
      "20  S014   S014   S014   S014   S014   S014   S014   S014        NaN  S014   \n",
      "21  S014   S014   S014   S014   S014   S014   S014   S014             S014   \n",
      "22  S014   S014   S014   S014   S014   S014   S014   S014             S014   \n",
      "23  S014   S014   S014   S014   S014   S014   S014   S014             S014   \n",
      "24  S014   S014   S014   S014   S014   S014   S014   S014             S014   \n",
      "25  S014   S014   S014   S014   S014   S014   S014   S014             S014   \n",
      "\n",
      "    E4_WERKS  \n",
      "0          1  \n",
      "1          2  \n",
      "2          3  \n",
      "3          4  \n",
      "4          5  \n",
      "5          6  \n",
      "6          2  \n",
      "7          3  \n",
      "8          4  \n",
      "9          5  \n",
      "10         6  \n",
      "11         2  \n",
      "12         3  \n",
      "13         4  \n",
      "14         5  \n",
      "15         6  \n",
      "16         2  \n",
      "17         3  \n",
      "18         4  \n",
      "19         5  \n",
      "20         6  \n",
      "21         2  \n",
      "22         3  \n",
      "23         4  \n",
      "24         5  \n",
      "25         6  \n"
     ]
    }
   ],
   "source": [
    "# Perform the join with WERKS\n",
    "merged_df = pd.merge(df_MARC, df_WERKS, left_on='WERKS', right_on='ECC', how='left')\n",
    "# Rename WERKS column\n",
    "# merged_df.rename(columns={'E4_WERKS': 'WERKS'}, inplace=True)\n",
    "\n",
    "print(\"merge1\\n\",merged_df)\n"
   ]
  },
  {
   "cell_type": "code",
   "execution_count": 4,
   "id": "2c568263-7426-4e03-b6a9-6ad602f4967a",
   "metadata": {},
   "outputs": [
    {
     "ename": "KeyError",
     "evalue": "'EKGRP'",
     "output_type": "error",
     "traceback": [
      "\u001b[1;31m---------------------------------------------------------------------------\u001b[0m",
      "\u001b[1;31mKeyError\u001b[0m                                  Traceback (most recent call last)",
      "\u001b[1;32m~\\AppData\\Local\\Temp\\ipykernel_24072\\1158176822.py\u001b[0m in \u001b[0;36m?\u001b[1;34m()\u001b[0m\n\u001b[0;32m      1\u001b[0m \u001b[1;31m# Join with other DataFrames\u001b[0m\u001b[1;33m\u001b[0m\u001b[1;33m\u001b[0m\u001b[0m\n\u001b[1;32m----> 2\u001b[1;33m \u001b[0mmerged_df\u001b[0m \u001b[1;33m=\u001b[0m \u001b[0mpd\u001b[0m\u001b[1;33m.\u001b[0m\u001b[0mmerge\u001b[0m\u001b[1;33m(\u001b[0m\u001b[0mmerged_df\u001b[0m\u001b[1;33m,\u001b[0m \u001b[0mdf_EKGRP\u001b[0m\u001b[1;33m,\u001b[0m \u001b[0mleft_on\u001b[0m\u001b[1;33m=\u001b[0m\u001b[1;34m'EKGRP'\u001b[0m\u001b[1;33m,\u001b[0m \u001b[0mright_on\u001b[0m\u001b[1;33m=\u001b[0m\u001b[1;34m'ECC'\u001b[0m\u001b[1;33m,\u001b[0m \u001b[0mhow\u001b[0m\u001b[1;33m=\u001b[0m\u001b[1;34m'left'\u001b[0m\u001b[1;33m)\u001b[0m\u001b[1;33m\u001b[0m\u001b[1;33m\u001b[0m\u001b[0m\n\u001b[0m\u001b[0;32m      3\u001b[0m \u001b[0mmerged_df\u001b[0m\u001b[1;33m.\u001b[0m\u001b[0mrename\u001b[0m\u001b[1;33m(\u001b[0m\u001b[0mcolumns\u001b[0m\u001b[1;33m=\u001b[0m\u001b[1;33m{\u001b[0m\u001b[1;34m'E4_EKGRP'\u001b[0m\u001b[1;33m:\u001b[0m \u001b[1;34m'EKGRP'\u001b[0m\u001b[1;33m}\u001b[0m\u001b[1;33m,\u001b[0m \u001b[0minplace\u001b[0m\u001b[1;33m=\u001b[0m\u001b[1;32mTrue\u001b[0m\u001b[1;33m)\u001b[0m\u001b[1;33m\u001b[0m\u001b[1;33m\u001b[0m\u001b[0m\n\u001b[0;32m      4\u001b[0m \u001b[1;33m\u001b[0m\u001b[0m\n\u001b[0;32m      5\u001b[0m \u001b[0mmerged_df\u001b[0m \u001b[1;33m=\u001b[0m \u001b[0mpd\u001b[0m\u001b[1;33m.\u001b[0m\u001b[0mmerge\u001b[0m\u001b[1;33m(\u001b[0m\u001b[0mmerged_df\u001b[0m\u001b[1;33m,\u001b[0m \u001b[0mdf_AUSME\u001b[0m\u001b[1;33m,\u001b[0m \u001b[0mleft_on\u001b[0m\u001b[1;33m=\u001b[0m\u001b[1;34m'AUSME'\u001b[0m\u001b[1;33m,\u001b[0m \u001b[0mright_on\u001b[0m\u001b[1;33m=\u001b[0m\u001b[1;34m'ECC'\u001b[0m\u001b[1;33m,\u001b[0m \u001b[0mhow\u001b[0m\u001b[1;33m=\u001b[0m\u001b[1;34m'left'\u001b[0m\u001b[1;33m)\u001b[0m\u001b[1;33m\u001b[0m\u001b[1;33m\u001b[0m\u001b[0m\n",
      "\u001b[1;32m~\\AppData\\Local\\Programs\\Python\\Python312\\Lib\\site-packages\\pandas\\core\\reshape\\merge.py\u001b[0m in \u001b[0;36m?\u001b[1;34m(left, right, how, on, left_on, right_on, left_index, right_index, sort, suffixes, copy, indicator, validate)\u001b[0m\n\u001b[0;32m    166\u001b[0m             \u001b[0mvalidate\u001b[0m\u001b[1;33m=\u001b[0m\u001b[0mvalidate\u001b[0m\u001b[1;33m,\u001b[0m\u001b[1;33m\u001b[0m\u001b[1;33m\u001b[0m\u001b[0m\n\u001b[0;32m    167\u001b[0m             \u001b[0mcopy\u001b[0m\u001b[1;33m=\u001b[0m\u001b[0mcopy\u001b[0m\u001b[1;33m,\u001b[0m\u001b[1;33m\u001b[0m\u001b[1;33m\u001b[0m\u001b[0m\n\u001b[0;32m    168\u001b[0m         \u001b[1;33m)\u001b[0m\u001b[1;33m\u001b[0m\u001b[1;33m\u001b[0m\u001b[0m\n\u001b[0;32m    169\u001b[0m     \u001b[1;32melse\u001b[0m\u001b[1;33m:\u001b[0m\u001b[1;33m\u001b[0m\u001b[1;33m\u001b[0m\u001b[0m\n\u001b[1;32m--> 170\u001b[1;33m         op = _MergeOperation(\n\u001b[0m\u001b[0;32m    171\u001b[0m             \u001b[0mleft_df\u001b[0m\u001b[1;33m,\u001b[0m\u001b[1;33m\u001b[0m\u001b[1;33m\u001b[0m\u001b[0m\n\u001b[0;32m    172\u001b[0m             \u001b[0mright_df\u001b[0m\u001b[1;33m,\u001b[0m\u001b[1;33m\u001b[0m\u001b[1;33m\u001b[0m\u001b[0m\n\u001b[0;32m    173\u001b[0m             \u001b[0mhow\u001b[0m\u001b[1;33m=\u001b[0m\u001b[0mhow\u001b[0m\u001b[1;33m,\u001b[0m\u001b[1;33m\u001b[0m\u001b[1;33m\u001b[0m\u001b[0m\n",
      "\u001b[1;32m~\\AppData\\Local\\Programs\\Python\\Python312\\Lib\\site-packages\\pandas\\core\\reshape\\merge.py\u001b[0m in \u001b[0;36m?\u001b[1;34m(self, left, right, how, on, left_on, right_on, left_index, right_index, sort, suffixes, indicator, validate)\u001b[0m\n\u001b[0;32m    790\u001b[0m             \u001b[0mself\u001b[0m\u001b[1;33m.\u001b[0m\u001b[0mright_join_keys\u001b[0m\u001b[1;33m,\u001b[0m\u001b[1;33m\u001b[0m\u001b[1;33m\u001b[0m\u001b[0m\n\u001b[0;32m    791\u001b[0m             \u001b[0mself\u001b[0m\u001b[1;33m.\u001b[0m\u001b[0mjoin_names\u001b[0m\u001b[1;33m,\u001b[0m\u001b[1;33m\u001b[0m\u001b[1;33m\u001b[0m\u001b[0m\n\u001b[0;32m    792\u001b[0m             \u001b[0mleft_drop\u001b[0m\u001b[1;33m,\u001b[0m\u001b[1;33m\u001b[0m\u001b[1;33m\u001b[0m\u001b[0m\n\u001b[0;32m    793\u001b[0m             \u001b[0mright_drop\u001b[0m\u001b[1;33m,\u001b[0m\u001b[1;33m\u001b[0m\u001b[1;33m\u001b[0m\u001b[0m\n\u001b[1;32m--> 794\u001b[1;33m         \u001b[1;33m)\u001b[0m \u001b[1;33m=\u001b[0m \u001b[0mself\u001b[0m\u001b[1;33m.\u001b[0m\u001b[0m_get_merge_keys\u001b[0m\u001b[1;33m(\u001b[0m\u001b[1;33m)\u001b[0m\u001b[1;33m\u001b[0m\u001b[1;33m\u001b[0m\u001b[0m\n\u001b[0m\u001b[0;32m    795\u001b[0m \u001b[1;33m\u001b[0m\u001b[0m\n\u001b[0;32m    796\u001b[0m         \u001b[1;32mif\u001b[0m \u001b[0mleft_drop\u001b[0m\u001b[1;33m:\u001b[0m\u001b[1;33m\u001b[0m\u001b[1;33m\u001b[0m\u001b[0m\n\u001b[0;32m    797\u001b[0m             \u001b[0mself\u001b[0m\u001b[1;33m.\u001b[0m\u001b[0mleft\u001b[0m \u001b[1;33m=\u001b[0m \u001b[0mself\u001b[0m\u001b[1;33m.\u001b[0m\u001b[0mleft\u001b[0m\u001b[1;33m.\u001b[0m\u001b[0m_drop_labels_or_levels\u001b[0m\u001b[1;33m(\u001b[0m\u001b[0mleft_drop\u001b[0m\u001b[1;33m)\u001b[0m\u001b[1;33m\u001b[0m\u001b[1;33m\u001b[0m\u001b[0m\n",
      "\u001b[1;32m~\\AppData\\Local\\Programs\\Python\\Python312\\Lib\\site-packages\\pandas\\core\\reshape\\merge.py\u001b[0m in \u001b[0;36m?\u001b[1;34m(self)\u001b[0m\n\u001b[0;32m   1306\u001b[0m                     \u001b[1;32mif\u001b[0m \u001b[0mlk\u001b[0m \u001b[1;32mis\u001b[0m \u001b[1;32mnot\u001b[0m \u001b[1;32mNone\u001b[0m\u001b[1;33m:\u001b[0m\u001b[1;33m\u001b[0m\u001b[1;33m\u001b[0m\u001b[0m\n\u001b[0;32m   1307\u001b[0m                         \u001b[1;31m# Then we're either Hashable or a wrong-length arraylike,\u001b[0m\u001b[1;33m\u001b[0m\u001b[1;33m\u001b[0m\u001b[0m\n\u001b[0;32m   1308\u001b[0m                         \u001b[1;31m#  the latter of which will raise\u001b[0m\u001b[1;33m\u001b[0m\u001b[1;33m\u001b[0m\u001b[0m\n\u001b[0;32m   1309\u001b[0m                         \u001b[0mlk\u001b[0m \u001b[1;33m=\u001b[0m \u001b[0mcast\u001b[0m\u001b[1;33m(\u001b[0m\u001b[0mHashable\u001b[0m\u001b[1;33m,\u001b[0m \u001b[0mlk\u001b[0m\u001b[1;33m)\u001b[0m\u001b[1;33m\u001b[0m\u001b[1;33m\u001b[0m\u001b[0m\n\u001b[1;32m-> 1310\u001b[1;33m                         \u001b[0mleft_keys\u001b[0m\u001b[1;33m.\u001b[0m\u001b[0mappend\u001b[0m\u001b[1;33m(\u001b[0m\u001b[0mleft\u001b[0m\u001b[1;33m.\u001b[0m\u001b[0m_get_label_or_level_values\u001b[0m\u001b[1;33m(\u001b[0m\u001b[0mlk\u001b[0m\u001b[1;33m)\u001b[0m\u001b[1;33m)\u001b[0m\u001b[1;33m\u001b[0m\u001b[1;33m\u001b[0m\u001b[0m\n\u001b[0m\u001b[0;32m   1311\u001b[0m                         \u001b[0mjoin_names\u001b[0m\u001b[1;33m.\u001b[0m\u001b[0mappend\u001b[0m\u001b[1;33m(\u001b[0m\u001b[0mlk\u001b[0m\u001b[1;33m)\u001b[0m\u001b[1;33m\u001b[0m\u001b[1;33m\u001b[0m\u001b[0m\n\u001b[0;32m   1312\u001b[0m                     \u001b[1;32melse\u001b[0m\u001b[1;33m:\u001b[0m\u001b[1;33m\u001b[0m\u001b[1;33m\u001b[0m\u001b[0m\n\u001b[0;32m   1313\u001b[0m                         \u001b[1;31m# work-around for merge_asof(left_index=True)\u001b[0m\u001b[1;33m\u001b[0m\u001b[1;33m\u001b[0m\u001b[0m\n",
      "\u001b[1;32m~\\AppData\\Local\\Programs\\Python\\Python312\\Lib\\site-packages\\pandas\\core\\generic.py\u001b[0m in \u001b[0;36m?\u001b[1;34m(self, key, axis)\u001b[0m\n\u001b[0;32m   1906\u001b[0m             \u001b[0mvalues\u001b[0m \u001b[1;33m=\u001b[0m \u001b[0mself\u001b[0m\u001b[1;33m.\u001b[0m\u001b[0mxs\u001b[0m\u001b[1;33m(\u001b[0m\u001b[0mkey\u001b[0m\u001b[1;33m,\u001b[0m \u001b[0maxis\u001b[0m\u001b[1;33m=\u001b[0m\u001b[0mother_axes\u001b[0m\u001b[1;33m[\u001b[0m\u001b[1;36m0\u001b[0m\u001b[1;33m]\u001b[0m\u001b[1;33m)\u001b[0m\u001b[1;33m.\u001b[0m\u001b[0m_values\u001b[0m\u001b[1;33m\u001b[0m\u001b[1;33m\u001b[0m\u001b[0m\n\u001b[0;32m   1907\u001b[0m         \u001b[1;32melif\u001b[0m \u001b[0mself\u001b[0m\u001b[1;33m.\u001b[0m\u001b[0m_is_level_reference\u001b[0m\u001b[1;33m(\u001b[0m\u001b[0mkey\u001b[0m\u001b[1;33m,\u001b[0m \u001b[0maxis\u001b[0m\u001b[1;33m=\u001b[0m\u001b[0maxis\u001b[0m\u001b[1;33m)\u001b[0m\u001b[1;33m:\u001b[0m\u001b[1;33m\u001b[0m\u001b[1;33m\u001b[0m\u001b[0m\n\u001b[0;32m   1908\u001b[0m             \u001b[0mvalues\u001b[0m \u001b[1;33m=\u001b[0m \u001b[0mself\u001b[0m\u001b[1;33m.\u001b[0m\u001b[0maxes\u001b[0m\u001b[1;33m[\u001b[0m\u001b[0maxis\u001b[0m\u001b[1;33m]\u001b[0m\u001b[1;33m.\u001b[0m\u001b[0mget_level_values\u001b[0m\u001b[1;33m(\u001b[0m\u001b[0mkey\u001b[0m\u001b[1;33m)\u001b[0m\u001b[1;33m.\u001b[0m\u001b[0m_values\u001b[0m\u001b[1;33m\u001b[0m\u001b[1;33m\u001b[0m\u001b[0m\n\u001b[0;32m   1909\u001b[0m         \u001b[1;32melse\u001b[0m\u001b[1;33m:\u001b[0m\u001b[1;33m\u001b[0m\u001b[1;33m\u001b[0m\u001b[0m\n\u001b[1;32m-> 1910\u001b[1;33m             \u001b[1;32mraise\u001b[0m \u001b[0mKeyError\u001b[0m\u001b[1;33m(\u001b[0m\u001b[0mkey\u001b[0m\u001b[1;33m)\u001b[0m\u001b[1;33m\u001b[0m\u001b[1;33m\u001b[0m\u001b[0m\n\u001b[0m\u001b[0;32m   1911\u001b[0m \u001b[1;33m\u001b[0m\u001b[0m\n\u001b[0;32m   1912\u001b[0m         \u001b[1;31m# Check for duplicates\u001b[0m\u001b[1;33m\u001b[0m\u001b[1;33m\u001b[0m\u001b[0m\n\u001b[0;32m   1913\u001b[0m         \u001b[1;32mif\u001b[0m \u001b[0mvalues\u001b[0m\u001b[1;33m.\u001b[0m\u001b[0mndim\u001b[0m \u001b[1;33m>\u001b[0m \u001b[1;36m1\u001b[0m\u001b[1;33m:\u001b[0m\u001b[1;33m\u001b[0m\u001b[1;33m\u001b[0m\u001b[0m\n",
      "\u001b[1;31mKeyError\u001b[0m: 'EKGRP'"
     ]
    }
   ],
   "source": [
    "# Join with other DataFrames\n",
    "merged_df = pd.merge(merged_df, df_EKGRP, left_on='EKGRP', right_on='ECC', how='left')\n",
    "merged_df.rename(columns={'E4_EKGRP': 'EKGRP'}, inplace=True)\n",
    "\n",
    "merged_df = pd.merge(merged_df, df_AUSME, left_on='AUSME', right_on='ECC', how='left')\n",
    "merged_df.rename(columns={'E4_AUSME': 'AUSME'}, inplace=True)\n",
    "print(merged_df)\n",
    "\n",
    "merged_df = pd.merge(merged_df, df_LGPRO, left_on='LGPRO', right_on='ECC', how='left')\n",
    "merged_df.rename(columns={'E4_LGPRO': 'LGPRO'}, inplace=True)\n",
    "\n",
    "merged_df = pd.merge(merged_df, df_LGFSB, left_on='LGFSB', right_on='ECC', how='left')\n",
    "merged_df.rename(columns={'E4_LGFSB': 'LGFSB'}, inplace=True)\n",
    "\n",
    "merged_df = pd.merge(merged_df, df_KOKRS, left_on='KOKRS', right_on='ECC', how='left')\n",
    "merged_df.rename(columns={'E4_KOKRS': 'KOKRS'}, inplace=True)\n",
    "\n",
    "merged_df = pd.merge(merged_df, df_WAERS, left_on='WAERS', right_on='WAERS_COLUMN', how='left')\n",
    "merged_df.rename(columns={'E4_WAERS': 'WAERS'}, inplace=True)"
   ]
  },
  {
   "cell_type": "code",
   "execution_count": null,
   "id": "6420db0e-24a4-4ecb-be56-31605a650399",
   "metadata": {},
   "outputs": [],
   "source": [
    "\n",
    "# Filter DISGR column based on ECC column\n",
    "merged_df['DISGR'] = '0000'  # Default value\n",
    "merged_df.loc[merged_df['ECC'].notnull(), 'DISGR'] = ''\n",
    "\n",
    "print(merged_df)"
   ]
  },
  {
   "cell_type": "code",
   "execution_count": null,
   "id": "15778b07-00ac-4778-9f24-9290753d57dd",
   "metadata": {},
   "outputs": [],
   "source": []
  }
 ],
 "metadata": {
  "kernelspec": {
   "display_name": "Python 3 (ipykernel)",
   "language": "python",
   "name": "python3"
  },
  "language_info": {
   "codemirror_mode": {
    "name": "ipython",
    "version": 3
   },
   "file_extension": ".py",
   "mimetype": "text/x-python",
   "name": "python",
   "nbconvert_exporter": "python",
   "pygments_lexer": "ipython3",
   "version": "3.12.2"
  }
 },
 "nbformat": 4,
 "nbformat_minor": 5
}
